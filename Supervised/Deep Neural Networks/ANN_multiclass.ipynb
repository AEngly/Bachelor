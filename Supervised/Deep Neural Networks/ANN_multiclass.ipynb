{
 "cells": [
  {
   "cell_type": "code",
   "execution_count": 1,
   "metadata": {},
   "outputs": [
    {
     "name": "stderr",
     "output_type": "stream",
     "text": [
      "Using TensorFlow backend.\n"
     ]
    }
   ],
   "source": [
    "import pandas as pd\n",
    "import numpy as np\n",
    "from performance_metrics import Performance_Evaluator\n",
    "from keras.utils import plot_model\n",
    "from keras.models import Sequential\n",
    "from keras.layers import Dense, Activation\n",
    "from keras.utils import to_categorical"
   ]
  },
  {
   "cell_type": "code",
   "execution_count": 2,
   "metadata": {},
   "outputs": [],
   "source": [
    "model = Sequential()\n",
    "model.add(Dense(512, activation='relu', input_dim=118))\n",
    "model.add(Dense(512, activation='relu'))\n",
    "model.add(Dense(512, activation='relu'))\n",
    "model.add(Dense(512, activation='relu'))\n",
    "model.add(Dense(512, activation='relu'))\n",
    "model.add(Dense(512, activation='relu'))\n",
    "model.add(Dense(512, activation='relu'))\n",
    "model.add(Dense(23, activation='softmax'))\n",
    "model.compile(optimizer='adam',\n",
    "              loss='categorical_crossentropy', metrics=['accuracy'])\n",
    "model.save('ANN_multi.h5')"
   ]
  },
  {
   "cell_type": "code",
   "execution_count": 3,
   "metadata": {},
   "outputs": [],
   "source": [
    "x_train = pd.read_csv(\"../../../Preprocessing/Preprocessing2/x_train.csv\")\n",
    "y_train = pd.read_csv(\"../../../Preprocessing/Preprocessing2/y_train.csv\")\n",
    "x_test = pd.read_csv(\"../../../Preprocessing/Preprocessing2/x_test.csv\")\n",
    "y_test = pd.read_csv(\"../../../Preprocessing/Preprocessing2/y_test.csv\")"
   ]
  },
  {
   "cell_type": "code",
   "execution_count": 4,
   "metadata": {},
   "outputs": [
    {
     "name": "stdout",
     "output_type": "stream",
     "text": [
      "Epoch 1/1\n",
      "116468/116468 [==============================] - 60s 515us/step - loss: 106.8006 - accuracy: 0.9382\n"
     ]
    },
    {
     "data": {
      "text/plain": [
       "<keras.callbacks.callbacks.History at 0x131f12470>"
      ]
     },
     "execution_count": 4,
     "metadata": {},
     "output_type": "execute_result"
    }
   ],
   "source": [
    "model.fit(x_train, y_train, epochs=1, use_multiprocessing=True)"
   ]
  },
  {
   "cell_type": "code",
   "execution_count": 5,
   "metadata": {},
   "outputs": [],
   "source": [
    "y_pred = model.predict(x_test)"
   ]
  },
  {
   "cell_type": "code",
   "execution_count": 6,
   "metadata": {},
   "outputs": [],
   "source": [
    "def converter_prediction(y_pred):\n",
    "\n",
    "    index_array = y_pred.argmax(axis=1)\n",
    "    y_pred[:,:] = 0\n",
    "\n",
    "    for i in range(len(y_pred[:,0])):\n",
    "\n",
    "        y_pred[i, index_array[i]] = 1 \n",
    "    \n",
    "    return y_pred"
   ]
  },
  {
   "cell_type": "code",
   "execution_count": 7,
   "metadata": {},
   "outputs": [],
   "source": [
    "y_pred = converter_prediction(y_pred)"
   ]
  },
  {
   "cell_type": "code",
   "execution_count": 8,
   "metadata": {},
   "outputs": [],
   "source": [
    "y_test = y_test.copy()"
   ]
  },
  {
   "cell_type": "code",
   "execution_count": 9,
   "metadata": {},
   "outputs": [],
   "source": [
    "PE = Performance_Evaluator(y_test, y_pred, True)"
   ]
  },
  {
   "cell_type": "code",
   "execution_count": 10,
   "metadata": {},
   "outputs": [
    {
     "name": "stdout",
     "output_type": "stream",
     "text": [
      "-------------- [PREDICTED / ACTUAL] --------------\n",
      "\n",
      "\n",
      "                  back.  buffer_overflow.  ftp_write.  guess_passwd.  imap.  \\\n",
      "back.               0.0               0.0         0.0            0.0    0.0   \n",
      "buffer_overflow.    0.0               0.0         0.0            0.0    0.0   \n",
      "ftp_write.          0.0               0.0         0.0            0.0    0.0   \n",
      "guess_passwd.       0.0               0.0         0.0            0.0    0.0   \n",
      "imap.               0.0               0.0         0.0            0.0    0.0   \n",
      "ipsweep.            0.0               0.0         0.0            0.0    1.0   \n",
      "land.               0.0               0.0         0.0            0.0    0.0   \n",
      "loadmodule.         0.0               0.0         0.0            0.0    0.0   \n",
      "multihop.           0.0               0.0         0.0            0.0    0.0   \n",
      "neptune.            0.0               0.0         0.0            0.0    1.0   \n",
      "nmap.               0.0               0.0         0.0            0.0    0.0   \n",
      "normal.           176.0               6.0         1.0           13.0    2.0   \n",
      "perl.               0.0               0.0         0.0            0.0    0.0   \n",
      "phf.                0.0               0.0         0.0            0.0    0.0   \n",
      "pod.                0.0               0.0         0.0            0.0    0.0   \n",
      "portsweep.          0.0               0.0         0.0            0.0    0.0   \n",
      "rootkit.            0.0               0.0         0.0            0.0    0.0   \n",
      "satan.              0.0               0.0         0.0            0.0    0.0   \n",
      "smurf.              0.0               0.0         0.0            0.0    0.0   \n",
      "spy.                0.0               0.0         0.0            0.0    0.0   \n",
      "teardrop.           0.0               0.0         0.0            0.0    0.0   \n",
      "warezclient.        0.0               0.0         0.0            0.0    0.0   \n",
      "warezmaster.        0.0               0.0         0.0            0.0    0.0   \n",
      "\n",
      "                  ipsweep.  land.  loadmodule.  multihop.  neptune.  ...  \\\n",
      "back.                  0.0    0.0          0.0        0.0       0.0  ...   \n",
      "buffer_overflow.       0.0    0.0          0.0        0.0       0.0  ...   \n",
      "ftp_write.             0.0    0.0          0.0        0.0       0.0  ...   \n",
      "guess_passwd.          0.0    0.0          0.0        0.0       0.0  ...   \n",
      "imap.                  0.0    0.0          0.0        0.0       0.0  ...   \n",
      "ipsweep.             117.0    0.0          0.0        0.0       0.0  ...   \n",
      "land.                  0.0    0.0          0.0        0.0       0.0  ...   \n",
      "loadmodule.            0.0    0.0          0.0        0.0       0.0  ...   \n",
      "multihop.              0.0    0.0          0.0        0.0       0.0  ...   \n",
      "neptune.               0.0    3.0          0.0        0.0   10352.0  ...   \n",
      "nmap.                  4.0    0.0          0.0        0.0       0.0  ...   \n",
      "normal.                9.0    0.0          1.0        1.0       0.0  ...   \n",
      "perl.                  0.0    0.0          0.0        0.0       0.0  ...   \n",
      "phf.                   0.0    0.0          0.0        0.0       0.0  ...   \n",
      "pod.                   0.0    0.0          0.0        0.0       0.0  ...   \n",
      "portsweep.             0.0    0.0          0.0        0.0       0.0  ...   \n",
      "rootkit.               0.0    0.0          0.0        0.0       0.0  ...   \n",
      "satan.                 0.0    0.0          0.0        0.0       4.0  ...   \n",
      "smurf.                 0.0    0.0          0.0        0.0       0.0  ...   \n",
      "spy.                   0.0    0.0          0.0        0.0       0.0  ...   \n",
      "teardrop.              0.0    0.0          0.0        0.0       0.0  ...   \n",
      "warezclient.           0.0    0.0          0.0        0.0       0.0  ...   \n",
      "warezmaster.           0.0    0.0          0.0        0.0       0.0  ...   \n",
      "\n",
      "                  phf.  pod.  portsweep.  rootkit.  satan.  smurf.  spy.  \\\n",
      "back.              0.0   0.0         0.0       0.0     0.0     0.0   0.0   \n",
      "buffer_overflow.   0.0   0.0         0.0       0.0     0.0     0.0   0.0   \n",
      "ftp_write.         0.0   0.0         0.0       0.0     0.0     0.0   0.0   \n",
      "guess_passwd.      0.0   0.0         0.0       0.0     0.0     0.0   0.0   \n",
      "imap.              0.0   0.0         0.0       0.0     0.0     0.0   0.0   \n",
      "ipsweep.           0.0   0.0         0.0       0.0     0.0     0.0   0.0   \n",
      "land.              0.0   0.0         0.0       0.0     0.0     0.0   0.0   \n",
      "loadmodule.        0.0   0.0         0.0       0.0     0.0     0.0   0.0   \n",
      "multihop.          0.0   0.0         0.0       0.0     0.0     0.0   0.0   \n",
      "neptune.           0.0   0.0        39.0       0.0    52.0     0.0   0.0   \n",
      "nmap.              0.0   0.0         0.0       0.0     0.0     0.0   0.0   \n",
      "normal.            2.0  39.0        41.0       2.0     6.0     1.0   0.0   \n",
      "perl.              0.0   0.0         0.0       0.0     0.0     0.0   0.0   \n",
      "phf.               0.0   0.0         0.0       0.0     0.0     0.0   0.0   \n",
      "pod.               0.0   0.0         0.0       0.0     0.0     0.0   0.0   \n",
      "portsweep.         0.0   0.0         2.0       0.0     0.0     0.0   0.0   \n",
      "rootkit.           0.0   0.0         0.0       0.0     0.0     0.0   0.0   \n",
      "satan.             0.0   0.0         4.0       0.0   121.0     0.0   0.0   \n",
      "smurf.             0.0   0.0         0.0       0.0     0.0   134.0   0.0   \n",
      "spy.               0.0   0.0         0.0       0.0     0.0     0.0   0.0   \n",
      "teardrop.          0.0   0.0         0.0       0.0     1.0     0.0   0.0   \n",
      "warezclient.       0.0   0.0         0.0       0.0     0.0     0.0   0.0   \n",
      "warezmaster.       0.0   0.0         0.0       0.0     0.0     0.0   0.0   \n",
      "\n",
      "                  teardrop.  warezclient.  warezmaster.  \n",
      "back.                   0.0           0.0           0.0  \n",
      "buffer_overflow.        0.0           0.0           0.0  \n",
      "ftp_write.              0.0           0.0           0.0  \n",
      "guess_passwd.           0.0           0.0           0.0  \n",
      "imap.                   0.0           0.0           0.0  \n",
      "ipsweep.                0.0           0.0           0.0  \n",
      "land.                   0.0           0.0           0.0  \n",
      "loadmodule.             0.0           0.0           0.0  \n",
      "multihop.               0.0           0.0           0.0  \n",
      "neptune.                0.0           0.0           0.0  \n",
      "nmap.                   0.0           0.0           0.0  \n",
      "normal.                 4.0         171.0           5.0  \n",
      "perl.                   0.0           0.0           0.0  \n",
      "phf.                    0.0           0.0           0.0  \n",
      "pod.                    0.0           0.0           0.0  \n",
      "portsweep.              0.0           0.0           0.0  \n",
      "rootkit.                0.0           0.0           0.0  \n",
      "satan.                  0.0           0.0           0.0  \n",
      "smurf.                  0.0           1.0           0.0  \n",
      "spy.                    0.0           0.0           0.0  \n",
      "teardrop.             195.0           0.0           0.0  \n",
      "warezclient.            0.0           0.0           0.0  \n",
      "warezmaster.            0.0           0.0           0.0  \n",
      "\n",
      "[23 rows x 23 columns]\n"
     ]
    }
   ],
   "source": [
    "matrix = PE.Matrix_Summary()"
   ]
  },
  {
   "cell_type": "code",
   "execution_count": 18,
   "metadata": {},
   "outputs": [
    {
     "name": "stdout",
     "output_type": "stream",
     "text": [
      "back.                         :  0.0\n",
      "buffer_overflow.              :  0.0\n",
      "ftp_write.                    :  0.0\n",
      "guess_passwd.                 :  0.0\n",
      "imap.                         :  0.0\n",
      "ipsweep.                      :  117.0\n",
      "land.                         :  0.0\n",
      "loadmodule.                   :  0.0\n",
      "multihop.                     :  0.0\n",
      "neptune.                      :  10352.0\n",
      "nmap.                         :  0.0\n",
      "normal.                       :  17495.0\n",
      "perl.                         :  0.0\n",
      "phf.                          :  0.0\n",
      "pod.                          :  0.0\n",
      "portsweep.                    :  2.0\n",
      "rootkit.                      :  0.0\n",
      "satan.                        :  121.0\n",
      "smurf.                        :  134.0\n",
      "spy.                          :  0.0\n",
      "teardrop.                     :  195.0\n",
      "warezclient.                  :  0.0\n",
      "warezmaster.                  :  0.0\n"
     ]
    }
   ],
   "source": [
    "for i in range(23):\n",
    "    \n",
    "    str1 = str(matrix.columns[i])\n",
    "    str2 = str(matrix.iloc[i,i])\n",
    "    \n",
    "    print(str1 + \" \"*(30 - len(str1)) + \":  \" + str(matrix.iloc[i,i]))"
   ]
  },
  {
   "cell_type": "code",
   "execution_count": null,
   "metadata": {},
   "outputs": [],
   "source": []
  }
 ],
 "metadata": {
  "kernelspec": {
   "display_name": "Python 3",
   "language": "python",
   "name": "python3"
  },
  "language_info": {
   "codemirror_mode": {
    "name": "ipython",
    "version": 3
   },
   "file_extension": ".py",
   "mimetype": "text/x-python",
   "name": "python",
   "nbconvert_exporter": "python",
   "pygments_lexer": "ipython3",
   "version": "3.7.0"
  }
 },
 "nbformat": 4,
 "nbformat_minor": 4
}
