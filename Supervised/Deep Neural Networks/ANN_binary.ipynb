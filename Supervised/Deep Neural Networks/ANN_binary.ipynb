{
 "cells": [
  {
   "cell_type": "code",
   "execution_count": 1,
   "metadata": {},
   "outputs": [
    {
     "name": "stderr",
     "output_type": "stream",
     "text": [
      "Using TensorFlow backend.\n"
     ]
    }
   ],
   "source": [
    "import pandas as pd\n",
    "import numpy as np\n",
    "from performance_metrics import Performance_Evaluator\n",
    "from keras.utils import plot_model\n",
    "from keras.models import Sequential\n",
    "from keras.layers import Dense, Activation\n",
    "from keras.utils import to_categorical"
   ]
  },
  {
   "cell_type": "code",
   "execution_count": 2,
   "metadata": {},
   "outputs": [],
   "source": [
    "model = Sequential()\n",
    "model.add(Dense(512, activation='relu', input_dim=61))\n",
    "model.add(Dense(512, activation='relu'))\n",
    "model.add(Dense(512, activation='relu'))\n",
    "model.add(Dense(512, activation='relu'))\n",
    "model.add(Dense(512, activation='relu'))\n",
    "model.add(Dense(512, activation='relu'))\n",
    "model.add(Dense(512, activation='relu'))\n",
    "model.add(Dense(1, activation='sigmoid'))\n",
    "model.compile(optimizer='rmsprop',\n",
    "              loss='binary_crossentropy', metrics=['accuracy'])\n",
    "model.save('ANN_binary.h5')"
   ]
  },
  {
   "cell_type": "code",
   "execution_count": 3,
   "metadata": {},
   "outputs": [
    {
     "name": "stdout",
     "output_type": "stream",
     "text": [
      "Epoch 1/20\n",
      "116468/116468 [==============================] - 24s 207us/step - loss: 19.6984 - accuracy: 0.5955\n",
      "Epoch 2/20\n",
      "116468/116468 [==============================] - 24s 207us/step - loss: 6.2458 - accuracy: 0.6716\n",
      "Epoch 3/20\n",
      "116468/116468 [==============================] - 24s 204us/step - loss: 2.6184 - accuracy: 0.6459\n",
      "Epoch 4/20\n",
      "116468/116468 [==============================] - 26s 226us/step - loss: 0.8847 - accuracy: 0.6291\n",
      "Epoch 5/20\n",
      "116468/116468 [==============================] - 24s 206us/step - loss: 1.1132 - accuracy: 0.6203\n",
      "Epoch 6/20\n",
      "116468/116468 [==============================] - 25s 211us/step - loss: 0.5961 - accuracy: 0.7029\n",
      "Epoch 7/20\n",
      "116468/116468 [==============================] - 25s 212us/step - loss: 0.6308 - accuracy: 0.7125\n",
      "Epoch 8/20\n",
      "116468/116468 [==============================] - 25s 215us/step - loss: 1.2949 - accuracy: 0.7478\n",
      "Epoch 9/20\n",
      "116468/116468 [==============================] - 35s 300us/step - loss: 0.5917 - accuracy: 0.7636\n",
      "Epoch 10/20\n",
      "116468/116468 [==============================] - 32s 271us/step - loss: 0.6247 - accuracy: 0.7491\n",
      "Epoch 11/20\n",
      "116468/116468 [==============================] - 27s 234us/step - loss: 0.5647 - accuracy: 0.7391\n",
      "Epoch 12/20\n",
      "116468/116468 [==============================] - 27s 228us/step - loss: 0.5615 - accuracy: 0.7708\n",
      "Epoch 13/20\n",
      "116468/116468 [==============================] - 33s 283us/step - loss: 0.5082 - accuracy: 0.7731\n",
      "Epoch 14/20\n",
      "116468/116468 [==============================] - 26s 221us/step - loss: 0.4644 - accuracy: 0.7793\n",
      "Epoch 15/20\n",
      "116468/116468 [==============================] - 26s 224us/step - loss: 0.4916 - accuracy: 0.7800\n",
      "Epoch 16/20\n",
      "116468/116468 [==============================] - 32s 276us/step - loss: 0.5877 - accuracy: 0.7667\n",
      "Epoch 17/20\n",
      "116468/116468 [==============================] - 32s 274us/step - loss: 0.5524 - accuracy: 0.7699\n",
      "Epoch 18/20\n",
      "116468/116468 [==============================] - 29s 246us/step - loss: 0.4866 - accuracy: 0.7730\n",
      "Epoch 19/20\n",
      "116468/116468 [==============================] - 29s 251us/step - loss: 0.4283 - accuracy: 0.8008\n",
      "Epoch 20/20\n",
      "116468/116468 [==============================] - 30s 257us/step - loss: 0.4295 - accuracy: 0.8091\n"
     ]
    },
    {
     "data": {
      "text/plain": [
       "<keras.callbacks.callbacks.History at 0x137986f98>"
      ]
     },
     "execution_count": 3,
     "metadata": {},
     "output_type": "execute_result"
    }
   ],
   "source": [
    "#data_set = pd.read_csv(\"../../../Preprocessing/Test_Data/binary_not_normalized.csv\")\n",
    "data_set = pd.read_csv(\"../../../Preprocessing/Test_Data/norm_1_binary.csv\")\n",
    "#data_set = pd.read_csv(\"../../../Preprocessing/Test_Data/norm_2_binary.csv\")\n",
    "\n",
    "training_set_1 = data_set.sample(frac=.8)\n",
    "test_set_1 = data_set.drop(training_set_1.index)\n",
    "\n",
    "y_train_1 = training_set_1['type']\n",
    "x_train_1 = training_set_1.drop(columns=['type'])\n",
    "\n",
    "y_test_1 = test_set_1['type']\n",
    "x_test_1 = test_set_1.drop(columns=['type'])\n",
    "\n",
    "model.fit(x_train_1, y_train_1, epochs=20, use_multiprocessing=True)"
   ]
  },
  {
   "cell_type": "code",
   "execution_count": 4,
   "metadata": {},
   "outputs": [],
   "source": [
    "y_pred = model.predict(x_test_1)\n",
    "y_pred = np.reshape((y_pred > 0.5), np.shape(y_pred)[0])"
   ]
  },
  {
   "cell_type": "code",
   "execution_count": 5,
   "metadata": {},
   "outputs": [],
   "source": [
    "y_true = y_test_1.to_numpy()"
   ]
  },
  {
   "cell_type": "code",
   "execution_count": 6,
   "metadata": {},
   "outputs": [
    {
     "name": "stdout",
     "output_type": "stream",
     "text": [
      "29117\n",
      "29117\n"
     ]
    }
   ],
   "source": [
    "PE = Performance_Evaluator(y_true, y_pred)"
   ]
  },
  {
   "cell_type": "code",
   "execution_count": 7,
   "metadata": {},
   "outputs": [
    {
     "name": "stdout",
     "output_type": "stream",
     "text": [
      "-------------------- SUMMARY --------------------\n",
      "\n",
      "\n",
      "The accuracy is: 0.7902599855754371\n",
      "The precision is: 0.7511903650452806\n",
      "The recall is: 1.0\n",
      "The f_measure is: 0.8579197099749427\n",
      "The false_negative_rate is: 0.0\n",
      "The false_positive_rate is: 0.24880963495471944\n",
      "\n",
      "\n",
      "-------------------------------------------------\n"
     ]
    }
   ],
   "source": [
    "PE.Summary()"
   ]
  },
  {
   "cell_type": "code",
   "execution_count": 8,
   "metadata": {},
   "outputs": [
    {
     "name": "stdout",
     "output_type": "stream",
     "text": [
      "-------------- [PREDICTED / ACTUAL] --------------\n",
      "\n",
      "\n",
      "          positive  negative\n",
      "positive      8046      2665\n",
      "negative         0     14964\n"
     ]
    }
   ],
   "source": [
    "PE.Matrix_Summary()"
   ]
  },
  {
   "cell_type": "code",
   "execution_count": null,
   "metadata": {},
   "outputs": [],
   "source": []
  }
 ],
 "metadata": {
  "kernelspec": {
   "display_name": "Python 3",
   "language": "python",
   "name": "python3"
  },
  "language_info": {
   "codemirror_mode": {
    "name": "ipython",
    "version": 3
   },
   "file_extension": ".py",
   "mimetype": "text/x-python",
   "name": "python",
   "nbconvert_exporter": "python",
   "pygments_lexer": "ipython3",
   "version": "3.7.0"
  }
 },
 "nbformat": 4,
 "nbformat_minor": 4
}
