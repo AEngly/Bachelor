{
 "cells": [
  {
   "cell_type": "markdown",
   "metadata": {},
   "source": [
    "# Imports"
   ]
  },
  {
   "cell_type": "code",
   "execution_count": 1,
   "metadata": {},
   "outputs": [],
   "source": [
    "import numpy as np\n",
    "import pandas as pd\n",
    "import math\n",
    "from sklearn.decomposition import PCA\n",
    "from sklearn.model_selection import train_test_split\n",
    "from sklearn.neighbors import KNeighborsClassifier\n",
    "from sklearn.model_selection import KFold\n",
    "from sklearn.model_selection import StratifiedKFold\n",
    "from sklearn import preprocessing\n",
    "import matplotlib.pyplot as plt\n",
    "import time\n",
    "import multiprocessing"
   ]
  },
  {
   "cell_type": "markdown",
   "metadata": {},
   "source": [
    "# Import Data"
   ]
  },
  {
   "cell_type": "code",
   "execution_count": 2,
   "metadata": {},
   "outputs": [],
   "source": [
    "data_1_bin = pd.read_csv(\"../Data/norm_1_binary.csv\")\n",
    "data_1 = pd.read_csv(\"../Data/norm_1.csv\")\n",
    "data_2_bin = pd.read_csv(\"../Data/norm_2_binary.csv\")\n",
    "data_2 = pd.read_csv(\"../Data/norm_2.csv\")"
   ]
  },
  {
   "cell_type": "markdown",
   "metadata": {},
   "source": [
    "# Separate Data"
   ]
  },
  {
   "cell_type": "code",
   "execution_count": 3,
   "metadata": {},
   "outputs": [],
   "source": [
    "y_1_bin = data_1_bin['type']\n",
    "x_1_bin = data_1_bin.drop(['type'], axis='columns')\n",
    "\n",
    "y_1 = data_1['type']\n",
    "x_1 = data_1.drop(['type'], axis='columns')\n",
    "\n",
    "y_2_bin = data_2_bin['type']\n",
    "x_2_bin = data_2_bin.drop(['type'], axis='columns')\n",
    "\n",
    "y_2 = data_2['type']\n",
    "x_2 = data_2.drop(['type'], axis='columns')"
   ]
  },
  {
   "cell_type": "markdown",
   "metadata": {},
   "source": [
    "# Split Data"
   ]
  },
  {
   "cell_type": "code",
   "execution_count": 4,
   "metadata": {},
   "outputs": [],
   "source": [
    "x_1_bin_train, x_1_bin_test, y_1_bin_train, y_1_bin_test = train_test_split(x_1_bin, y_1_bin, test_size=0.2, random_state=1, stratify=y_1_bin)\n",
    "x_1_train, x_1_test, y_1_train, y_1_test = train_test_split(x_1, y_1, test_size=0.2, random_state=1, stratify=y_1)\n",
    "x_2_bin_train, x_2_bin_test, y_2_bin_train, y_2_bin_test = train_test_split(x_2_bin, y_2_bin, test_size=0.2, random_state=1, stratify=y_2_bin)\n",
    "x_2_train, x_2_test, y_2_train, y_2_test = train_test_split(x_2, y_2, test_size=0.2, random_state=1, stratify=y_2)"
   ]
  },
  {
   "cell_type": "markdown",
   "metadata": {},
   "source": [
    "# Build Model (binary with normalization 1)"
   ]
  },
  {
   "cell_type": "code",
   "execution_count": 5,
   "metadata": {},
   "outputs": [],
   "source": [
    "knn_1_bin = KNeighborsClassifier(n_neighbors = 17)"
   ]
  },
  {
   "cell_type": "code",
   "execution_count": 6,
   "metadata": {},
   "outputs": [],
   "source": [
    "knn_1_bin.fit(x_1_bin_train, y_1_bin_train);"
   ]
  },
  {
   "cell_type": "code",
   "execution_count": 7,
   "metadata": {},
   "outputs": [
    {
     "data": {
      "text/plain": [
       "0.9940584538242264"
      ]
     },
     "execution_count": 7,
     "metadata": {},
     "output_type": "execute_result"
    }
   ],
   "source": [
    "knn_1_bin.score(x_1_bin_test, y_1_bin_test)"
   ]
  },
  {
   "cell_type": "markdown",
   "metadata": {},
   "source": [
    "# Build Model (multi classification with normalization 1)"
   ]
  },
  {
   "cell_type": "code",
   "execution_count": 8,
   "metadata": {},
   "outputs": [],
   "source": [
    "knn_1 = KNeighborsClassifier(n_neighbors = 17)"
   ]
  },
  {
   "cell_type": "code",
   "execution_count": 9,
   "metadata": {},
   "outputs": [],
   "source": [
    "knn_1.fit(x_1_train, y_1_train);"
   ]
  },
  {
   "cell_type": "code",
   "execution_count": 10,
   "metadata": {},
   "outputs": [
    {
     "data": {
      "text/plain": [
       "0.9933372256757221"
      ]
     },
     "execution_count": 10,
     "metadata": {},
     "output_type": "execute_result"
    }
   ],
   "source": [
    "knn_1.score(x_1_test, y_1_test)"
   ]
  },
  {
   "cell_type": "markdown",
   "metadata": {},
   "source": [
    "# Build Model (binary with normalization 2)"
   ]
  },
  {
   "cell_type": "code",
   "execution_count": 11,
   "metadata": {},
   "outputs": [],
   "source": [
    "knn_2_bin = KNeighborsClassifier(n_neighbors = 17)"
   ]
  },
  {
   "cell_type": "code",
   "execution_count": 12,
   "metadata": {},
   "outputs": [],
   "source": [
    "knn_2_bin.fit(x_2_bin_train, y_2_bin_train);"
   ]
  },
  {
   "cell_type": "code",
   "execution_count": 13,
   "metadata": {},
   "outputs": [
    {
     "data": {
      "text/plain": [
       "0.9951574681457568"
      ]
     },
     "execution_count": 13,
     "metadata": {},
     "output_type": "execute_result"
    }
   ],
   "source": [
    "knn_2_bin.score(x_2_bin_test, y_2_bin_test)"
   ]
  },
  {
   "cell_type": "markdown",
   "metadata": {},
   "source": [
    "# Build Model (multi classification with normalization 2)"
   ]
  },
  {
   "cell_type": "code",
   "execution_count": 14,
   "metadata": {},
   "outputs": [],
   "source": [
    "knn_2 = KNeighborsClassifier(n_neighbors = 17)"
   ]
  },
  {
   "cell_type": "code",
   "execution_count": 15,
   "metadata": {},
   "outputs": [],
   "source": [
    "knn_2.fit(x_2_train, y_2_train);"
   ]
  },
  {
   "cell_type": "code",
   "execution_count": 16,
   "metadata": {},
   "outputs": [
    {
     "data": {
      "text/plain": [
       "0.9948827145653741"
      ]
     },
     "execution_count": 16,
     "metadata": {},
     "output_type": "execute_result"
    }
   ],
   "source": [
    "knn_2.score(x_2_test, y_2_test)"
   ]
  },
  {
   "cell_type": "markdown",
   "metadata": {},
   "source": [
    "# K Fold Cross Validation"
   ]
  },
  {
   "cell_type": "code",
   "execution_count": 17,
   "metadata": {},
   "outputs": [],
   "source": [
    "def get_score(model, x_train, y_train, x_test, y_test):\n",
    "    \n",
    "    model.fit(x_train, y_train)\n",
    "    return model.score(x_test, y_test)\n",
    "    "
   ]
  },
  {
   "cell_type": "code",
   "execution_count": 18,
   "metadata": {},
   "outputs": [],
   "source": [
    "def train_model(model, x_train, y_train, index):\n",
    "    \n",
    "    print(\"Training model {}!\".format(index))\n",
    "    \n",
    "    model.fit(x_train, y_train)\n",
    "    return model"
   ]
  },
  {
   "cell_type": "code",
   "execution_count": 24,
   "metadata": {},
   "outputs": [],
   "source": [
    "def cross_validation(model, data):\n",
    "    \n",
    "    scores = []\n",
    "\n",
    "    Y = data['type']\n",
    "    X = data.drop(['type'], axis='columns')\n",
    "    \n",
    "    skf = StratifiedKFold(n_splits=10, random_state=1, shuffle=True)\n",
    "    iteration = 1\n",
    "    index = 0\n",
    "    \n",
    "    results = []\n",
    "    \n",
    "    for train_index, test_index in skf.split(X,Y):\n",
    "        \n",
    "        print(\"Enter {}. iteration!\".format(iteration))\n",
    "        \n",
    "        x_train, y_train, x_test, y_test = X.loc[train_index], Y.loc[train_index], X.loc[test_index], Y.loc[test_index]\n",
    "        \n",
    "        p = multiprocessing.Process(target=train_model, args=[model, x_train, y_train, iteration])\n",
    "        p.start()\n",
    "        # p.join()\n",
    "        \n",
    "        scores = scores + [model.score(x_test, y_test)]\n",
    "        \n",
    "        index += 1\n",
    "        iteration += 1\n",
    "        \n",
    "    print(scores)\n",
    "    print(\"The average is {}\".format(sum(scores)/len(scores)))\n",
    "        \n",
    "    "
   ]
  },
  {
   "cell_type": "code",
   "execution_count": 25,
   "metadata": {},
   "outputs": [
    {
     "name": "stdout",
     "output_type": "stream",
     "text": [
      "Enter 1. iteration!\n",
      "Training model 1!\n",
      "Enter 2. iteration!\n",
      "Training model 2!\n",
      "Enter 3. iteration!\n",
      "Training model 3!\n",
      "Enter 4. iteration!\n",
      "Training model 4!\n",
      "Enter 5. iteration!\n",
      "Training model 5!\n",
      "Enter 6. iteration!\n",
      "Training model 6!\n",
      "Enter 7. iteration!\n",
      "Training model 7!\n",
      "Enter 8. iteration!\n",
      "Training model 8!\n",
      "Enter 9. iteration!\n",
      "Training model 9!\n",
      "Enter 10. iteration!\n",
      "Training model 10!\n",
      "[0.9937495707122742, 0.9944364310735627, 0.995741465760011, 0.9951232914348513, 0.9945051171096916, 0.9959472455007556, 0.9961533177634291, 0.9958098639923066, 0.9949168841873883, 0.994573430416266]\n",
      "The average is 0.9950956617950537\n"
     ]
    }
   ],
   "source": [
    "cross_validation(knn_1_bin, data_1_bin)\n",
    "\n"
   ]
  },
  {
   "cell_type": "markdown",
   "metadata": {},
   "source": [
    "[0.9937495707122742, 0.9944364310735627, 0.995741465760011, 0.9951232914348513, 0.9945051171096916, 0.9959472455007556, 0.9961533177634291, 0.9958098639923066, 0.9949168841873883, 0.994573430416266]"
   ]
  },
  {
   "cell_type": "code",
   "execution_count": null,
   "metadata": {},
   "outputs": [],
   "source": []
  }
 ],
 "metadata": {
  "kernelspec": {
   "display_name": "Python 3",
   "language": "python",
   "name": "python3"
  },
  "language_info": {
   "codemirror_mode": {
    "name": "ipython",
    "version": 3
   },
   "file_extension": ".py",
   "mimetype": "text/x-python",
   "name": "python",
   "nbconvert_exporter": "python",
   "pygments_lexer": "ipython3",
   "version": "3.7.0"
  }
 },
 "nbformat": 4,
 "nbformat_minor": 4
}
